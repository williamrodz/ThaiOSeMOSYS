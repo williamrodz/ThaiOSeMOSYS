{
 "cells": [
  {
   "cell_type": "code",
   "execution_count": null,
   "metadata": {},
   "outputs": [],
   "source": [
    "#import txt file with the input name\n",
    "#enter file name by hand\n",
    "\n",
    "file_name =  \"Thailand_FF_SAND_DemandFixed2021.xlsm.txt.cloud_data\"\n",
    "\n",
    "def read_file(file_name):\n",
    "    with open(file_name) as f:\n",
    "        lines = f.readlines()\n",
    "    return lines\n",
    "\n",
    "#indicate number and type of values of param  SpecifiedAnnualDemand\n",
    "def find_demand(lines):\n",
    "    for i, line in enumerate(lines):\n",
    "        if \"SpecifiedAnnualDemand\" in line:\n",
    "            print(i, line)\n",
    "            break\n"
   ]
  }
 ],
 "metadata": {
  "language_info": {
   "name": "python"
  }
 },
 "nbformat": 4,
 "nbformat_minor": 2
}
